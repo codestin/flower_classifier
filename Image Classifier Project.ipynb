{
 "cells": [
  {
   "cell_type": "markdown",
   "metadata": {},
   "source": [
    "# Developing an AI application\n",
    "\n",
    "Going forward, AI algorithms will be incorporated into more and more everyday applications. For example, you might want to include an image classifier in a smart phone app. To do this, you'd use a deep learning model trained on hundreds of thousands of images as part of the overall application architecture. A large part of software development in the future will be using these types of models as common parts of applications. \n",
    "\n",
    "In this project, you'll train an image classifier to recognize different species of flowers. You can imagine using something like this in a phone app that tells you the name of the flower your camera is looking at. In practice you'd train this classifier, then export it for use in your application. We'll be using [this dataset](http://www.robots.ox.ac.uk/~vgg/data/flowers/102/index.html) of 102 flower categories, you can see a few examples below. \n",
    "\n",
    "<img src='assets/Flowers.png' width=500px>\n",
    "\n",
    "The project is broken down into multiple steps:\n",
    "\n",
    "* Load and preprocess the image dataset\n",
    "* Train the image classifier on your dataset\n",
    "* Use the trained classifier to predict image content\n",
    "\n",
    "We'll lead you through each part which you'll implement in Python.\n",
    "\n",
    "When you've completed this project, you'll have an application that can be trained on any set of labeled images. Here your network will be learning about flowers and end up as a command line application. But, what you do with your new skills depends on your imagination and effort in building a dataset. For example, imagine an app where you take a picture of a car, it tells you what the make and model is, then looks up information about it. Go build your own dataset and make something new.\n",
    "\n",
    "First up is importing the packages you'll need. It's good practice to keep all the imports at the beginning of your code. As you work through this notebook and find you need to import a package, make sure to add the import up here.\n",
    "\n",
    "Please make sure if you are running this notebook in the workspace that you have chosen GPU rather than CPU mode."
   ]
  },
  {
   "cell_type": "code",
   "execution_count": 3,
   "metadata": {},
   "outputs": [],
   "source": [
    "# Package imports: All the necessary packages and modules are imported in the first cell of the notebook\n",
    "\n",
    "import time \n",
    "import numpy as np\n",
    "\n",
    "import torch\n",
    "from torch import nn, optim\n",
    "import torch.nn.functional as F\n",
    "from torchvision import datasets, transforms, models\n",
    "\n",
    "import json\n",
    "\n",
    "from collections import OrderedDict\n",
    "\n",
    "from PIL import Image\n",
    "\n",
    "import matplotlib.pyplot as plt\n",
    "import seaborn as sns\n",
    "\n",
    "# Configure matplotlib\n",
    "%matplotlib inline\n",
    "%config InlineBackend.figure_format = 'retina'\n"
   ]
  },
  {
   "cell_type": "markdown",
   "metadata": {},
   "source": [
    "## Load the data\n",
    "\n",
    "Here you'll use `torchvision` to load the data ([documentation](http://pytorch.org/docs/0.3.0/torchvision/index.html)). The data should be included alongside this notebook, otherwise you can [download it here](https://s3.amazonaws.com/content.udacity-data.com/nd089/flower_data.tar.gz). The dataset is split into three parts, training, validation, and testing. For the training, you'll want to apply transformations such as random scaling, cropping, and flipping. This will help the network generalize leading to better performance. You'll also need to make sure the input data is resized to 224x224 pixels as required by the pre-trained networks.\n",
    "\n",
    "The validation and testing sets are used to measure the model's performance on data it hasn't seen yet. For this you don't want any scaling or rotation transformations, but you'll need to resize then crop the images to the appropriate size.\n",
    "\n",
    "The pre-trained networks you'll use were trained on the ImageNet dataset where each color channel was normalized separately. For all three sets you'll need to normalize the means and standard deviations of the images to what the network expects. For the means, it's `[0.485, 0.456, 0.406]` and for the standard deviations `[0.229, 0.224, 0.225]`, calculated from the ImageNet images.  These values will shift each color channel to be centered at 0 and range from -1 to 1.\n",
    " "
   ]
  },
  {
   "cell_type": "code",
   "execution_count": 4,
   "metadata": {},
   "outputs": [],
   "source": [
    "# Point to image directories\n",
    "data_dir = 'flowers'\n",
    "train_dir = data_dir + '/train'\n",
    "valid_dir = data_dir + '/valid'\n",
    "test_dir = data_dir + '/test'"
   ]
  },
  {
   "cell_type": "code",
   "execution_count": 5,
   "metadata": {},
   "outputs": [],
   "source": [
    "# Training data augmentation: torchvision transforms are used to augment the training data with random scaling, rotations, mirroring, and/or cropping\n",
    "# Data normalization: The training, validation, and testing data is appropriately cropped and normalized\n",
    "# For the means, it's [0.485, 0.456, 0.406] and for the standard deviations [0.229, 0.224, 0.225], calculated from the ImageNet images\n",
    "# These values will shift each color channel to be centered at 0 and range from -1 to 1\n",
    "\n",
    "# Training dataset is randomly scaled, transformed, and flipped\n",
    "train_transforms = transforms.Compose([transforms.RandomRotation(50),\n",
    "                                       transforms.RandomResizedCrop(224),\n",
    "                                       transforms.RandomHorizontalFlip(),\n",
    "                                       transforms.ToTensor(),\n",
    "                                       transforms.Normalize([0.485, 0.456, 0.406], \n",
    "                                                            [0.229, 0.224, 0.225])])\n",
    "\n",
    "# Validation and testing datasets share the same transformations with no scaling or rotation\n",
    "valid_test_transforms = transforms.Compose([transforms.Resize(256),\n",
    "                                      transforms.CenterCrop(224),\n",
    "                                      transforms.ToTensor(),\n",
    "                                      transforms.Normalize([0.485, 0.456, 0.406], \n",
    "                                                           [0.229, 0.224, 0.225])]) "
   ]
  },
  {
   "cell_type": "code",
   "execution_count": 6,
   "metadata": {},
   "outputs": [],
   "source": [
    "# Data loading: The data for each set (train, validation, test) is loaded with torchvision's ImageFolder\n",
    "train_data = datasets.ImageFolder(data_dir + '/train', transform=train_transforms)\n",
    "valid_data = datasets.ImageFolder(data_dir + '/valid', transform=valid_test_transforms)\n",
    "test_data = datasets.ImageFolder(data_dir + '/test', transform=valid_test_transforms)"
   ]
  },
  {
   "cell_type": "code",
   "execution_count": 7,
   "metadata": {},
   "outputs": [],
   "source": [
    "# Data batching: The data for each set is loaded with torchvision's DataLoader\n",
    "# Training data is shuffled to prevent unintended bias\n",
    "train_loader = torch.utils.data.DataLoader(train_data, batch_size=64, shuffle=True)\n",
    "valid_loader = torch.utils.data.DataLoader(valid_data, batch_size=64)\n",
    "test_loader = torch.utils.data.DataLoader(test_data, batch_size=64)"
   ]
  },
  {
   "cell_type": "markdown",
   "metadata": {},
   "source": [
    "### Label mapping\n",
    "\n",
    "You'll also need to load in a mapping from category label to category name. You can find this in the file `cat_to_name.json`. It's a JSON object which you can read in with the [`json` module](https://docs.python.org/2/library/json.html). This will give you a dictionary mapping the integer encoded categories to the actual names of the flowers."
   ]
  },
  {
   "cell_type": "code",
   "execution_count": 8,
   "metadata": {
    "scrolled": true
   },
   "outputs": [],
   "source": [
    "# Load in dictionary mapping the integer encoded categories to the actual names of the flowers\n",
    "with open('cat_to_name.json', 'r') as f:\n",
    "    cat_to_name = json.load(f)"
   ]
  },
  {
   "cell_type": "markdown",
   "metadata": {},
   "source": [
    "# Building and training the classifier\n",
    "\n",
    "Now that the data is ready, it's time to build and train the classifier. As usual, you should use one of the pretrained models from `torchvision.models` to get the image features. Build and train a new feed-forward classifier using those features.\n",
    "\n",
    "We're going to leave this part up to you. Refer to [the rubric](https://review.udacity.com/#!/rubrics/1663/view) for guidance on successfully completing this section. Things you'll need to do:\n",
    "\n",
    "* Load a [pre-trained network](http://pytorch.org/docs/master/torchvision/models.html) (If you need a starting point, the VGG networks work great and are straightforward to use)\n",
    "* Define a new, untrained feed-forward network as a classifier, using ReLU activations and dropout\n",
    "* Train the classifier layers using backpropagation using the pre-trained network to get the features\n",
    "* Track the loss and accuracy on the validation set to determine the best hyperparameters\n",
    "\n",
    "We've left a cell open for you below, but use as many as you need. Our advice is to break the problem up into smaller parts you can run separately. Check that each part is doing what you expect, then move on to the next. You'll likely find that as you work through each part, you'll need to go back and modify your previous code. This is totally normal!\n",
    "\n",
    "When training make sure you're updating only the weights of the feed-forward network. You should be able to get the validation accuracy above 70% if you build everything right. Make sure to try different hyperparameters (learning rate, units in the classifier, epochs, etc) to find the best model. Save those hyperparameters to use as default values in the next part of the project.\n",
    "\n",
    "One last important tip if you're using the workspace to run your code: To avoid having your workspace disconnect during the long-running tasks in this notebook, please read in the earlier page in this lesson called Intro to GPU Workspaces about Keeping Your Session Active. You'll want to include code from the workspace_utils.py module."
   ]
  },
  {
   "cell_type": "code",
   "execution_count": 9,
   "metadata": {},
   "outputs": [
    {
     "name": "stderr",
     "output_type": "stream",
     "text": [
      "Downloading: \"https://download.pytorch.org/models/vgg16-397923af.pth\" to /root/.torch/models/vgg16-397923af.pth\n",
      "100%|██████████| 553433881/553433881 [00:04<00:00, 114221267.90it/s]\n"
     ]
    }
   ],
   "source": [
    "# Pretrained Network: A pretrained network is loaded from torchvision.models and the parameters are frozen\n",
    "model = models.vgg16(pretrained = True)\n",
    "model\n",
    "\n",
    "# Ensure weights from the pre-trained model are modified by back propagation\n",
    "for param in model.parameters():\n",
    "    param.requires_grad = False\n",
    "\n",
    "# Feedforward Classifier: A new feedforward network is defined for use as a classifier using the features as input\n",
    "# Define sequential container (skeleton structure) Define a new, untrained feed-forward network as a classifier, using ReLU activations and dropout.\n",
    "# Set first layer input to match the number of features (25088), and output match number of classes i.e. number of flower categories\n",
    "hidden_layers = 500\n",
    "classifier = nn.Sequential(OrderedDict([\n",
    "                          ('fc1', nn.Linear(25088, hidden_layers)),\n",
    "                          ('relu', nn.ReLU()),\n",
    "                          ('dropout1', nn.Dropout(0.05)),\n",
    "                          ('fc2', nn.Linear(hidden_layers, 102)),\n",
    "                          ('output', nn.LogSoftmax(dim=1))\n",
    "                          ]))"
   ]
  },
  {
   "cell_type": "code",
   "execution_count": 10,
   "metadata": {},
   "outputs": [],
   "source": [
    "# Training the network: The parameters of the feedforward classifier are appropriately trained, while the parameters of the feature network are left static\n",
    "\n",
    "# Begin training on top of pretrained model\n",
    "model.classifier = classifier\n",
    "\n",
    "# Set up optimizer: Adam (adaptive moment estimation) to update network weights iteratively based on training data\n",
    "# Learning rate currently set to default 1e-3 per publication recommendation for use with PyTorch\n",
    "learning_rate = 1e-3\n",
    "optimizer = optim.Adam(model.classifier.parameters(), lr=learning_rate)\n",
    "\n",
    "# Set up loss criterion: infer confidence using negative log likelihood loss because of softmax activation function\n",
    "criterion = nn.NLLLoss()\n",
    "\n",
    "# Define validation function for the model\n",
    "def validation(model, valid_loader, criterion):\n",
    "    \n",
    "    accuracy = 0\n",
    "    valid_loss = 0\n",
    "    \n",
    "    # Switch to CUDA\n",
    "    model.to('cuda')\n",
    "\n",
    "    # Iterate over images and labels from valid_loader dataset\n",
    "    for images, labels in valid_loader:\n",
    "    \n",
    "        # Switch images and labels to CUDA tensors\n",
    "        images, labels = images.to('cuda'), labels.to('cuda')\n",
    "\n",
    "        # Perform forward pass\n",
    "        output = model.forward(images)\n",
    "        \n",
    "        # Calculate validation loss\n",
    "        valid_loss += criterion(output, labels).item()\n",
    "        \n",
    "        # Return a new tensor with the exponential of the elements of the input tensor to calculate probability\n",
    "        ps = torch.exp(output)\n",
    "        \n",
    "        # Calculate accuracy based on the maximum probability versus actual flower label\n",
    "        match = (labels.data == ps.max(dim=1)[1])\n",
    "        accuracy += match.type(torch.FloatTensor).mean()\n",
    "    \n",
    "    return valid_loss, accuracy"
   ]
  },
  {
   "cell_type": "code",
   "execution_count": 11,
   "metadata": {},
   "outputs": [
    {
     "name": "stdout",
     "output_type": "stream",
     "text": [
      "Epoch 1,             Training Loss: 3.27             Validation Loss: 1.38             Validation Accuracy: 0.65\n",
      "Epoch 1,             Training Loss: 1.67             Validation Loss: 0.85             Validation Accuracy: 0.77\n",
      "Epoch duration: 3m 13s\n"
     ]
    }
   ],
   "source": [
    "# An epoch = 1 forward pass and 1 backward pass of the full training dataset\n",
    "epochs = 1\n",
    "\n",
    "# An iteration = 1 forward and 1 backward pass\n",
    "iteration = 0\n",
    "print_line = 40\n",
    "\n",
    "# Switch to CUDA\n",
    "model.to('cuda')\n",
    "\n",
    "for epoch in range(epochs):\n",
    "    running_loss = 0\n",
    "    since = time.time()\n",
    "    \n",
    "    # Iterate over images and labels from train_loader and valid_loader dataset\n",
    "    for inputs, labels in train_loader:\n",
    "        \n",
    "        iteration += 1\n",
    "        \n",
    "        # Convert inputs and labels to cuda tensors\n",
    "        inputs, labels = inputs.to('cuda'), labels.to('cuda')\n",
    "        \n",
    "        # Reset gradient back to 0 because here we perform mini-batch gradient descent \n",
    "        optimizer.zero_grad()\n",
    "        \n",
    "        # Perform forward pass and compute the loss\n",
    "        outputs = model.forward(inputs)\n",
    "        loss = criterion(outputs, labels)\n",
    "        \n",
    "        # Perform backward pass to compute the gradients with respect to model parameters\n",
    "        loss.backward()\n",
    "        \n",
    "        # Update parameters in the direction of the gradients\n",
    "        optimizer.step()\n",
    "        \n",
    "        # Calculate the training loss\n",
    "        running_loss += loss.item()\n",
    "        \n",
    "        # Validate model\n",
    "        if iteration % print_line == 0:\n",
    "            \n",
    "            # Set model to evaluation mode\n",
    "            model.eval()\n",
    "            \n",
    "            # Turn off gradients to reduce memory usage as it is not needed in validation mode\n",
    "            with torch.no_grad():\n",
    "                valid_loss, accuracy = validation(model, valid_loader, criterion)\n",
    "                \n",
    "            # Validation Loss and Accuracy: During training, the validation loss and accuracy are displayed\n",
    "            \n",
    "            print(f\"Epoch {epoch+1}, \\\n",
    "            Training Loss: {round(running_loss/print_line,2)} \\\n",
    "            Validation Loss: {round(valid_loss/len(valid_loader),2)} \\\n",
    "            Validation Accuracy: {round(float(accuracy/len(valid_loader)),2)}\")\n",
    "            \n",
    "            # Reset training loss\n",
    "            running_loss = 0\n",
    "            \n",
    "            # Set model back to training mode\n",
    "            model.train()\n",
    "            \n",
    "    # Calculate and print time elapsed in each epoch         \n",
    "    time_elapsed = time.time() - since\n",
    "    print('Epoch duration: {:.0f}m {:.0f}s'.format(time_elapsed // 60, time_elapsed % 60))"
   ]
  },
  {
   "cell_type": "markdown",
   "metadata": {},
   "source": [
    "## Testing your network\n",
    "\n",
    "It's good practice to test your trained network on test data, images the network has never seen either in training or validation. This will give you a good estimate for the model's performance on completely new images. Run the test images through the network and measure the accuracy, the same way you did validation. You should be able to reach around 70% accuracy on the test set if the model has been trained well."
   ]
  },
  {
   "cell_type": "code",
   "execution_count": 12,
   "metadata": {},
   "outputs": [
    {
     "name": "stdout",
     "output_type": "stream",
     "text": [
      "Neural network accuracy: 74.97%\n"
     ]
    }
   ],
   "source": [
    "def test_model(model):\n",
    "    # Testing Accuracy: The network's accuracy is measured on the test data        \n",
    "    accurate = 0\n",
    "    total = 0\n",
    "\n",
    "    # Switch to CUDA\n",
    "    model.to('cuda')\n",
    "\n",
    "    # Turn off gradients to reduce memory usage as it is not needed in testing mode\n",
    "\n",
    "    with torch.no_grad():\n",
    "\n",
    "        for data in test_loader:\n",
    "            images, labels = data\n",
    "\n",
    "            # Convert inputs and labels to cuda tensors\n",
    "            images, labels = images.to('cuda'), labels.to('cuda')\n",
    "\n",
    "            # Obtain model output values from images\n",
    "            outputs = model(images)\n",
    "\n",
    "            # Designate maximum probability output as predicted flower class\n",
    "            _, predicted = torch.max(outputs.data, 1)\n",
    "\n",
    "            # Add total number of images to total image counter\n",
    "            total += labels.size(0)\n",
    "\n",
    "            # Add accurately classified images to accurate image counter\n",
    "            accurate += (predicted == labels).sum().item()\n",
    "\n",
    "        # Print neural network accuracy calculated from accurate/total image counters\n",
    "        print(f\"Neural network accuracy: {round(100 * accurate / total,2)}%\")\n",
    "\n",
    "test_model(model)"
   ]
  },
  {
   "cell_type": "markdown",
   "metadata": {},
   "source": [
    "## Save the checkpoint\n",
    "\n",
    "Now that your network is trained, save the model so you can load it later for making predictions. You probably want to save other things such as the mapping of classes to indices which you get from one of the image datasets: `image_datasets['train'].class_to_idx`. You can attach this to the model as an attribute which makes inference easier later on.\n",
    "\n",
    "```model.class_to_idx = image_datasets['train'].class_to_idx```\n",
    "\n",
    "Remember that you'll want to completely rebuild the model later so you can use it for inference. Make sure to include any information you need in the checkpoint. If you want to load the model and keep training, you'll want to save the number of epochs as well as the optimizer state, `optimizer.state_dict`. You'll likely want to use this trained model in the next part of the project, so best to save it now."
   ]
  },
  {
   "cell_type": "code",
   "execution_count": 17,
   "metadata": {
    "scrolled": true
   },
   "outputs": [],
   "source": [
    "# Saving the model: The trained model is saved as a checkpoint along with associated hyperparameters and the class_to_idx dictionary\n",
    "model.cpu()\n",
    "checkpoint = {'classifier': model.classifier,\n",
    "              'state_dict': model.state_dict (),\n",
    "              'class_to_idx': train_data.class_to_idx\n",
    "             }\n",
    "\n",
    "torch.save (checkpoint, 'checkpoint.pth')"
   ]
  },
  {
   "cell_type": "markdown",
   "metadata": {},
   "source": [
    "## Loading the checkpoint\n",
    "\n",
    "At this point it's good to write a function that can load a checkpoint and rebuild the model. That way you can come back to this project and keep working on it without having to retrain the network."
   ]
  },
  {
   "cell_type": "code",
   "execution_count": 19,
   "metadata": {},
   "outputs": [
    {
     "name": "stdout",
     "output_type": "stream",
     "text": [
      "Neural network accuracy: 74.73%\n"
     ]
    }
   ],
   "source": [
    "# Loading checkpoints: There is a function that successfully loads a checkpoint and rebuilds the model\n",
    "checkpoint = torch.load('checkpoint.pth')\n",
    "\n",
    "model = models.vgg16(pretrained=True)\n",
    "model.state_dict (checkpoint['state_dict'])\n",
    "model.classifier = checkpoint['classifier']\n",
    "model.class_to_idx = checkpoint['class_to_idx']\n",
    "\n",
    "\n",
    "# Test whether checkpoint loading worked\n",
    "\n",
    "test_model(model)"
   ]
  },
  {
   "cell_type": "markdown",
   "metadata": {},
   "source": [
    "# Inference for classification\n",
    "\n",
    "Now you'll write a function to use a trained network for inference. That is, you'll pass an image into the network and predict the class of the flower in the image. Write a function called `predict` that takes an image and a model, then returns the top $K$ most likely classes along with the probabilities. It should look like \n",
    "\n",
    "```python\n",
    "probs, classes = predict(image_path, model)\n",
    "print(probs)\n",
    "print(classes)\n",
    "> [ 0.01558163  0.01541934  0.01452626  0.01443549  0.01407339]\n",
    "> ['70', '3', '45', '62', '55']\n",
    "```\n",
    "\n",
    "First you'll need to handle processing the input image such that it can be used in your network. \n",
    "\n",
    "## Image Preprocessing\n",
    "\n",
    "You'll want to use `PIL` to load the image ([documentation](https://pillow.readthedocs.io/en/latest/reference/Image.html)). It's best to write a function that preprocesses the image so it can be used as input for the model. This function should process the images in the same manner used for training. \n",
    "\n",
    "First, resize the images where the shortest side is 256 pixels, keeping the aspect ratio. This can be done with the [`thumbnail`](http://pillow.readthedocs.io/en/3.1.x/reference/Image.html#PIL.Image.Image.thumbnail) or [`resize`](http://pillow.readthedocs.io/en/3.1.x/reference/Image.html#PIL.Image.Image.thumbnail) methods. Then you'll need to crop out the center 224x224 portion of the image.\n",
    "\n",
    "Color channels of images are typically encoded as integers 0-255, but the model expected floats 0-1. You'll need to convert the values. It's easiest with a Numpy array, which you can get from a PIL image like so `np_image = np.array(pil_image)`.\n",
    "\n",
    "As before, the network expects the images to be normalized in a specific way. For the means, it's `[0.485, 0.456, 0.406]` and for the standard deviations `[0.229, 0.224, 0.225]`. You'll want to subtract the means from each color channel, then divide by the standard deviation. \n",
    "\n",
    "And finally, PyTorch expects the color channel to be the first dimension but it's the third dimension in the PIL image and Numpy array. You can reorder dimensions using [`ndarray.transpose`](https://docs.scipy.org/doc/numpy-1.13.0/reference/generated/numpy.ndarray.transpose.html). The color channel needs to be first and retain the order of the other two dimensions."
   ]
  },
  {
   "cell_type": "code",
   "execution_count": null,
   "metadata": {},
   "outputs": [],
   "source": [
    "# Image Processing: The process_image function successfully converts a PIL image into an object that can be used as input to a trained model\n",
    "def process_image(image):\n",
    "    \n",
    "    # Use PIL to load the image \n",
    "    pil_image = Image.open(f'{image}' + '.jpg')\n",
    "\n",
    "    # Normalize image per network expectations: \n",
    "    # For the mean, it's [0.485, 0.456, 0.406] and for the standard deviations [0.229, 0.224, 0.225]\n",
    "    # Resize the images where the shortest side is 256 pixels, keeping the aspect ratio\n",
    "    # Crop out the center 224x224 portion of the image\n",
    "    transform = transforms.Compose([transforms.Resize(256),\n",
    "                                    transforms.CenterCrop(224),\n",
    "                                    transforms.ToTensor(),\n",
    "                                    transforms.Normalize([0.485, 0.456, 0.406], \n",
    "                                                         [0.229, 0.224, 0.225])]) \n",
    "\n",
    "    pil_transform = transform(pil_image)\n",
    "    \n",
    "    # Convert PyTorch tensor to Numpy array \n",
    "    np_image = np.array(pil_transform)\n",
    "    \n",
    "    return np_image"
   ]
  },
  {
   "cell_type": "markdown",
   "metadata": {},
   "source": [
    "To check your work, the function below converts a PyTorch tensor and displays it in the notebook. If your `process_image` function works, running the output through this function should return the original image (except for the cropped out portions)."
   ]
  },
  {
   "cell_type": "code",
   "execution_count": null,
   "metadata": {},
   "outputs": [],
   "source": [
    "def imshow(image, ax=None, title=None):\n",
    "    if ax is None:\n",
    "        fig, ax = plt.subplots()\n",
    "    \n",
    "    # PyTorch tensors assume the color channel is the first dimension\n",
    "    # but matplotlib assumes is the third dimension\n",
    "    image = image.transpose((1, 2, 0))\n",
    "    \n",
    "    # Undo preprocessing\n",
    "    mean = np.array([0.485, 0.456, 0.406])\n",
    "    std = np.array([0.229, 0.224, 0.225])\n",
    "    image = std * image + mean\n",
    "    \n",
    "    # Image needs to be clipped between 0 and 1 or it looks like noise when displayed\n",
    "    image = np.clip(image, 0, 1)\n",
    "    \n",
    "    ax.imshow(image)\n",
    "    \n",
    "    return ax\n",
    "\n",
    "# Test image\n",
    "image_name = data_dir + '/test' + '/2/' + 'image_05100'\n",
    "img_test =  process_image(image_name)\n",
    "\n",
    "# Check to see if image pre-processing was successful\n",
    "imshow(img_test, ax=None, title=None)"
   ]
  },
  {
   "cell_type": "markdown",
   "metadata": {},
   "source": [
    "## Class Prediction\n",
    "\n",
    "Once you can get images in the correct format, it's time to write a function for making predictions with your model. A common practice is to predict the top 5 or so (usually called top-$K$) most probable classes. You'll want to calculate the class probabilities then find the $K$ largest values.\n",
    "\n",
    "To get the top $K$ largest values in a tensor use [`x.topk(k)`](http://pytorch.org/docs/master/torch.html#torch.topk). This method returns both the highest `k` probabilities and the indices of those probabilities corresponding to the classes. You need to convert from these indices to the actual class labels using `class_to_idx` which hopefully you added to the model or from an `ImageFolder` you used to load the data ([see here](#Save-the-checkpoint)). Make sure to invert the dictionary so you get a mapping from index to class as well.\n",
    "\n",
    "Again, this method should take a path to an image and a model checkpoint, then return the probabilities and classes.\n",
    "\n",
    "```python\n",
    "probs, classes = predict(image_path, model)\n",
    "print(probs)\n",
    "print(classes)\n",
    "> [ 0.01558163  0.01541934  0.01452626  0.01443549  0.01407339]\n",
    "> ['70', '3', '45', '62', '55']\n",
    "```"
   ]
  },
  {
   "cell_type": "code",
   "execution_count": null,
   "metadata": {
    "scrolled": false
   },
   "outputs": [],
   "source": [
    "# Class Prediction: The predict function successfully takes the path to an image and a checkpoint, then returns the top K most probably classes for that image\n",
    "def predict(image_path, model, k=5):\n",
    "\n",
    "    # Switch to CPU mode\n",
    "    loaded_model = load_checkpoint(model).cpu()\n",
    "    \n",
    "    # Load and process the image\n",
    "    img = process_image(image_path)\n",
    "    \n",
    "    # Convert from Numpy array to PyTorch tensor\n",
    "    img_tensor = torch.from_numpy(img).type(torch.FloatTensor)\n",
    "    \n",
    "    # Add batch size argument\n",
    "    model_input = img_tensor.unsqueeze(0)\n",
    "    \n",
    "    # Calculate probability using model\n",
    "    loaded_model.eval()\n",
    "    with torch.no_grad():\n",
    "        model_output = loaded_model.forward(model_input)\n",
    "    \n",
    "    # Calculate and store top probabilities using torch.topk(k), which returns the highest probabilities and the indices\n",
    "    probs = torch.exp(model_output)\n",
    "    probs_topk = probs.topk(k)[0]\n",
    "    idx_topk = probs.topk(k)[1]\n",
    "    \n",
    "    # Convert stored top probabilities to Numpy arrays\n",
    "    probs_topk_array = np.array(probs_topk)[0]\n",
    "    idx_topk_array = np.array(idx_topk)[0]\n",
    "    \n",
    "    # Convert index to class labels using class_to_idx\n",
    "    class_to_idx = loaded_model.class_to_idx\n",
    "    \n",
    "    # Invert the dictionary to obtain mapping from index to class\n",
    "    idx_to_class = {val: key for key, val in class_to_idx.items()}\n",
    "    class_topk_array = []\n",
    "    for idx in idx_topk_array:\n",
    "        class_topk_array +=[idx_to_class[idx]]\n",
    "        \n",
    "    return probs_topk_array, class_topk_array\n",
    "        \n",
    "# Paths to an image and a model checkpoint\n",
    "image_path = data_dir + '/test' + '/2/' + 'image_05100'\n",
    "model_path = 'checkpoint.pth' \n",
    "\n",
    "# Predict and print the probabilities and classes\n",
    "probs, classes = predict(image_path, model_path)\n",
    "print(probs)\n",
    "print(classes)"
   ]
  },
  {
   "cell_type": "markdown",
   "metadata": {},
   "source": [
    "## Sanity Checking\n",
    "\n",
    "Now that you can use a trained model for predictions, check to make sure it makes sense. Even if the testing accuracy is high, it's always good to check that there aren't obvious bugs. Use `matplotlib` to plot the probabilities for the top 5 classes as a bar graph, along with the input image. It should look like this:\n",
    "\n",
    "<img src='assets/inference_example.png' width=300px>\n",
    "\n",
    "You can convert from the class integer encoding to actual flower names with the `cat_to_name.json` file (should have been loaded earlier in the notebook). To show a PyTorch tensor as an image, use the `imshow` function defined above."
   ]
  },
  {
   "cell_type": "code",
   "execution_count": null,
   "metadata": {},
   "outputs": [],
   "source": [
    "# Sanity Checking with matplotlib: A matplotlib figure is created displaying an image and its associated top 5 most probable classes with actual flower names\n",
    "\n",
    "# Paths to an image and a model checkpoint\n",
    "image_path = data_dir + '/test' + '/2/' + 'image_05100'\n",
    "model_path = 'checkpoint.pth' \n",
    "\n",
    "# Predict the probabilities and classes\n",
    "probs, classes = predict(image_path, model_path)\n",
    "\n",
    "# Convert from the class integer encoding to actual flower names with the cat_to_name.json\n",
    "names = [cat_to_name[i] for i in classes]\n",
    "\n",
    "# Load and process the image\n",
    "img = process_image(image_path)\n",
    "\n",
    "# Show PyTorch tensor as an image\n",
    "imshow(img)\n",
    "\n",
    "# Plot predicted classes using matplotlib and seaborn\n",
    "plt.figure(figsize = (4,4))\n",
    "sns.barplot(x=probs, y=names, color= 'darkblue')\n",
    "plt.show()\n"
   ]
  },
  {
   "cell_type": "code",
   "execution_count": null,
   "metadata": {},
   "outputs": [],
   "source": []
  },
  {
   "cell_type": "code",
   "execution_count": null,
   "metadata": {},
   "outputs": [],
   "source": []
  }
 ],
 "metadata": {
  "kernelspec": {
   "display_name": "Python 3",
   "language": "python",
   "name": "python3"
  },
  "language_info": {
   "codemirror_mode": {
    "name": "ipython",
    "version": 3
   },
   "file_extension": ".py",
   "mimetype": "text/x-python",
   "name": "python",
   "nbconvert_exporter": "python",
   "pygments_lexer": "ipython3",
   "version": "3.6.3"
  }
 },
 "nbformat": 4,
 "nbformat_minor": 2
}
